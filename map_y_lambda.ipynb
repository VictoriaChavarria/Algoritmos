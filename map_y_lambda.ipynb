{
  "nbformat": 4,
  "nbformat_minor": 0,
  "metadata": {
    "colab": {
      "provenance": []
    },
    "kernelspec": {
      "name": "python3",
      "display_name": "Python 3"
    },
    "language_info": {
      "name": "python"
    }
  },
  "cells": [
    {
      "cell_type": "code",
      "source": [
        "map"
      ],
      "metadata": {
        "id": "1vwpMMTJv2Ym"
      },
      "execution_count": null,
      "outputs": []
    },
    {
      "cell_type": "markdown",
      "source": [
        "# Las funciones lambda y map en Python\n",
        "\n",
        "Vamos a ver la funcion integrada [map](https://docs.python.org/3/library/functions.html#map)\n",
        "\n",
        "Y la función [lambda](hhttps://ellibrodepython.com/lambda-python)\n",
        "\n",
        "\n",
        "`lambda` es una forma de definir pero en un renglón.\n"
      ],
      "metadata": {
        "id": "3cl3HQUAwqSD"
      }
    },
    {
      "cell_type": "code",
      "execution_count": 7,
      "metadata": {
        "id": "vfvmlZovvvu0"
      },
      "outputs": [],
      "source": [
        "def cuadrado(x): #Esto es para definir el cuadrado de un número de manera global, esto es función map\n",
        "    return x**2"
      ]
    },
    {
      "cell_type": "code",
      "source": [
        "cuadrado (5)"
      ],
      "metadata": {
        "colab": {
          "base_uri": "https://localhost:8080/"
        },
        "id": "lqMP3wDi37Y1",
        "outputId": "782615b1-f1be-49cd-aab7-6a24a195a692"
      },
      "execution_count": 6,
      "outputs": [
        {
          "output_type": "execute_result",
          "data": {
            "text/plain": [
              "25"
            ]
          },
          "metadata": {},
          "execution_count": 6
        }
      ]
    },
    {
      "cell_type": "code",
      "source": [
        "lambda x: x**2   #La función lambda es una función que está integrada, se puede usar esa función solo dentro de este código"
      ],
      "metadata": {
        "colab": {
          "base_uri": "https://localhost:8080/"
        },
        "id": "FbFvzjb17nRe",
        "outputId": "24aa3230-76d7-43ac-c904-27ce6546e288"
      },
      "execution_count": 8,
      "outputs": [
        {
          "output_type": "execute_result",
          "data": {
            "text/plain": [
              "<function __main__.<lambda>(x)>"
            ]
          },
          "metadata": {},
          "execution_count": 8
        }
      ]
    },
    {
      "cell_type": "code",
      "source": [
        "x=[1,2,3,4]\n",
        "lambda x: x**2    #voy a poner una lista y pongo el valor de x, entonces seguirá siendo esa lista\n",
        "x"
      ],
      "metadata": {
        "colab": {
          "base_uri": "https://localhost:8080/"
        },
        "id": "Nu4GDEtU8SpX",
        "outputId": "d5999ddc-f59b-4fef-acd3-1f850e04fb3d"
      },
      "execution_count": 11,
      "outputs": [
        {
          "output_type": "execute_result",
          "data": {
            "text/plain": [
              "[1, 2, 3, 4]"
            ]
          },
          "metadata": {},
          "execution_count": 11
        }
      ]
    },
    {
      "cell_type": "code",
      "source": [
        "I=[1,2,3,4]\n",
        "lambda x: x**2   #le cambié a I de indíces\n",
        "I"
      ],
      "metadata": {
        "colab": {
          "base_uri": "https://localhost:8080/"
        },
        "id": "qLYBrDhk88gW",
        "outputId": "8b9d2527-6cbf-49f0-c7cf-52182d6ad113"
      },
      "execution_count": 12,
      "outputs": [
        {
          "output_type": "execute_result",
          "data": {
            "text/plain": [
              "[1, 2, 3, 4]"
            ]
          },
          "metadata": {},
          "execution_count": 12
        }
      ]
    },
    {
      "cell_type": "code",
      "source": [
        "\n",
        "z= lambda x: x**2   #vamos a llamarle z, aquí establecí mi función\n"
      ],
      "metadata": {
        "id": "ikTftmXx-jAn"
      },
      "execution_count": 20,
      "outputs": []
    },
    {
      "cell_type": "code",
      "source": [
        "z(5) #aquí me dió mi resultado\n"
      ],
      "metadata": {
        "colab": {
          "base_uri": "https://localhost:8080/"
        },
        "id": "qel1aoV19YSd",
        "outputId": "e32b8c44-c6c9-44d2-e147-b201f071ee43"
      },
      "execution_count": 21,
      "outputs": [
        {
          "output_type": "execute_result",
          "data": {
            "text/plain": [
              "25"
            ]
          },
          "metadata": {},
          "execution_count": 21
        }
      ]
    },
    {
      "cell_type": "code",
      "source": [
        "import math\n",
        "y = lambda x: math.sqrt(x)   #aquí quise poner la raíz cuadrada pero tuve que usar la funcion import math"
      ],
      "metadata": {
        "id": "wvQTC37k_L4S"
      },
      "execution_count": 28,
      "outputs": []
    },
    {
      "cell_type": "code",
      "source": [
        "y(144)"
      ],
      "metadata": {
        "colab": {
          "base_uri": "https://localhost:8080/"
        },
        "id": "4GGX7gdB_YDw",
        "outputId": "5554f96a-c57b-4f73-96c1-db5e43d6b33b"
      },
      "execution_count": 29,
      "outputs": [
        {
          "output_type": "execute_result",
          "data": {
            "text/plain": [
              "12.0"
            ]
          },
          "metadata": {},
          "execution_count": 29
        }
      ]
    },
    {
      "cell_type": "code",
      "source": [
        "res = list(map(z, I)) #aquí tengo una variable que contiene la función de volver al cuadrado y después de la coma voy a poner los elementos que quiero elevar al cuadrado\n",
        "print(res)"
      ],
      "metadata": {
        "colab": {
          "base_uri": "https://localhost:8080/"
        },
        "id": "4mYy7vsdAj37",
        "outputId": "be685582-d6ad-447a-fddb-45483a68d24b"
      },
      "execution_count": 30,
      "outputs": [
        {
          "output_type": "stream",
          "name": "stdout",
          "text": [
            "[1, 4, 9, 16]\n"
          ]
        }
      ]
    },
    {
      "cell_type": "code",
      "source": [
        "I=[1,2,3,4]             #Aquí puedo poner todo en un código: definir variables, definir z y así. Entonces ya tengo mi función global\n",
        "z= lambda x: x**2\n",
        "\n",
        "res = list(map(z, I))\n",
        "print(res)"
      ],
      "metadata": {
        "colab": {
          "base_uri": "https://localhost:8080/"
        },
        "id": "dRKJ2dYcBIxS",
        "outputId": "96abc75c-e37a-417a-c5fd-ed843553f2f6"
      },
      "execution_count": 32,
      "outputs": [
        {
          "output_type": "stream",
          "name": "stdout",
          "text": [
            "[1, 4, 9, 16]\n"
          ]
        }
      ]
    },
    {
      "cell_type": "code",
      "source": [
        "res = list(map(cuadrado, I))  #lo hace en una lista\n",
        "print(res)"
      ],
      "metadata": {
        "colab": {
          "base_uri": "https://localhost:8080/"
        },
        "id": "FhjT47fnBvBF",
        "outputId": "cf4c8a6a-934f-4586-a011-109b6c979a42"
      },
      "execution_count": 33,
      "outputs": [
        {
          "output_type": "stream",
          "name": "stdout",
          "text": [
            "[1, 4, 9, 16]\n"
          ]
        }
      ]
    },
    {
      "cell_type": "code",
      "source": [
        "res = set(map(cuadrado, I))  #lo hace en un conjunto\n",
        "print(res)"
      ],
      "metadata": {
        "colab": {
          "base_uri": "https://localhost:8080/"
        },
        "id": "vnsilcPWCEle",
        "outputId": "6ec9b740-0ce0-4e38-c9cb-3a25698993f0"
      },
      "execution_count": 34,
      "outputs": [
        {
          "output_type": "stream",
          "name": "stdout",
          "text": [
            "{16, 1, 4, 9}\n"
          ]
        }
      ]
    },
    {
      "cell_type": "code",
      "source": [
        "list(map(lambda x:x**2,I)) #puedo poner eso y me da lo mismo"
      ],
      "metadata": {
        "colab": {
          "base_uri": "https://localhost:8080/"
        },
        "id": "qcELpIINCY1R",
        "outputId": "c2002d82-8b28-47c1-fef9-f8b782c5393a"
      },
      "execution_count": 35,
      "outputs": [
        {
          "output_type": "execute_result",
          "data": {
            "text/plain": [
              "[1, 4, 9, 16]"
            ]
          },
          "metadata": {},
          "execution_count": 35
        }
      ]
    },
    {
      "cell_type": "markdown",
      "source": [
        "#Ya que vimos eso, ahora daremos 5 ejemplos de las funciones\n",
        "\n",
        "1,2,3 son `map`\n",
        "4,5 `lambda`\n"
      ],
      "metadata": {
        "id": "hxhvlaa4C6kV"
      }
    },
    {
      "cell_type": "code",
      "source": [
        "palabras = [\"hola\", \"mundo\", \"python\"] #aquí lo uso para convertir strings a mayusculas\n",
        "mayusculas = list(map(str.upper, palabras))\n",
        "print(mayusculas)"
      ],
      "metadata": {
        "colab": {
          "base_uri": "https://localhost:8080/"
        },
        "id": "vjJCQBfpC_bB",
        "outputId": "27b2fe32-7f1a-4676-bef8-8a611aba5e0d"
      },
      "execution_count": 37,
      "outputs": [
        {
          "output_type": "stream",
          "name": "stdout",
          "text": [
            "['HOLA', 'MUNDO', 'PYTHON']\n"
          ]
        }
      ]
    },
    {
      "cell_type": "code",
      "source": [
        "a = [1, 2, 3] #para sumar números de 2 cadenas\n",
        "b = [4, 5, 6]\n",
        "suma = list(map(lambda x, y: x + y, a, b))\n",
        "print(suma)"
      ],
      "metadata": {
        "colab": {
          "base_uri": "https://localhost:8080/"
        },
        "id": "tGOocAnSFT4d",
        "outputId": "65c458ff-6aa2-4455-8eb9-c68b393dcf75"
      },
      "execution_count": 38,
      "outputs": [
        {
          "output_type": "stream",
          "name": "stdout",
          "text": [
            "[5, 7, 9]\n"
          ]
        }
      ]
    },
    {
      "cell_type": "code",
      "source": [
        "palabras = [\"gato\", \"elefante\", \"perro\"] #longuitudes en palabras\n",
        "longitudes = list(map(len, palabras))\n",
        "print(longitudes)"
      ],
      "metadata": {
        "colab": {
          "base_uri": "https://localhost:8080/"
        },
        "id": "m3CM6IHBFlWu",
        "outputId": "5f16976b-9e80-49f5-8211-63c5a79b4092"
      },
      "execution_count": 40,
      "outputs": [
        {
          "output_type": "stream",
          "name": "stdout",
          "text": [
            "[4, 8, 5]\n"
          ]
        }
      ]
    },
    {
      "cell_type": "code",
      "source": [
        "es_par = lambda num: num % 2 == 0 #para saber si es par\n",
        "print(es_par(4))  # Salida: True\n",
        "print(es_par(7))  # Salida: False"
      ],
      "metadata": {
        "colab": {
          "base_uri": "https://localhost:8080/"
        },
        "id": "lQ7PThtsF48X",
        "outputId": "20ab7381-ed97-409e-9dfb-94e18760f5f3"
      },
      "execution_count": 41,
      "outputs": [
        {
          "output_type": "stream",
          "name": "stdout",
          "text": [
            "True\n",
            "False\n"
          ]
        }
      ]
    },
    {
      "cell_type": "code",
      "source": [
        "multiplicar_por_dos = lambda x: x * 2\n",
        "print(multiplicar_por_dos(5))  # Salida: 10, multiplica por 2"
      ],
      "metadata": {
        "colab": {
          "base_uri": "https://localhost:8080/"
        },
        "id": "NPdHP9k8Gd3f",
        "outputId": "41b6c3e6-bcb4-49a4-88b7-cdeb18d055b1"
      },
      "execution_count": 42,
      "outputs": [
        {
          "output_type": "stream",
          "name": "stdout",
          "text": [
            "10\n"
          ]
        }
      ]
    }
  ]
}